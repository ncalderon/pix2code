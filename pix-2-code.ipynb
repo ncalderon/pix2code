{
 "cells": [
  {
   "cell_type": "code",
   "execution_count": 1,
   "metadata": {
    "collapsed": true,
    "pycharm": {
     "name": "#%%\n"
    }
   },
   "outputs": [],
   "source": [
    "# import cv2\n",
    "#\n",
    "# img = cv2.imread(\"datasets/ios/training_set/0A967511-9D13-40D3-9A95-20125CDB25CD.png\")\n",
    "# img.shape\n",
    "#"
   ]
  },
  {
   "cell_type": "code",
   "execution_count": 2,
   "metadata": {
    "pycharm": {
     "name": "#%%\n"
    }
   },
   "outputs": [],
   "source": [
    "# img_resized = cv2.resize(img, (256, 256))\n",
    "# img_resized.shape\n",
    "# cv2.imshow(\"Original\", img)\n",
    "# cv2.imshow(\"Resized image\", img_resized)\n",
    "# cv2.waitKey(0)\n",
    "# cv2.destroyAllWindows()"
   ]
  },
  {
   "cell_type": "code",
   "execution_count": 3,
   "metadata": {
    "pycharm": {
     "name": "#%%\n"
    }
   },
   "outputs": [
    {
     "name": "stderr",
     "output_type": "stream",
     "text": [
      "Using TensorFlow backend.\n"
     ]
    }
   ],
   "source": [
    "from keras.utils.vis_utils import plot_model\n",
    "from keras.layers import Input, Dense, Dropout, \\\n",
    "                         RepeatVector, LSTM, concatenate, \\\n",
    "                         Conv2D, MaxPooling2D, Flatten\n",
    "from keras.models import Sequential, Model\n",
    "from keras.optimizers import RMSprop\n",
    "from keras import *\n",
    "from model.classes.model.Config import *\n",
    "from model.classes.model.AModel import *"
   ]
  },
  {
   "cell_type": "code",
   "execution_count": 5,
   "metadata": {
    "pycharm": {
     "name": "#%%\n"
    }
   },
   "outputs": [
    {
     "name": "stdout",
     "output_type": "stream",
     "text": [
      "Model: \"model_2\"\n",
      "__________________________________________________________________________________________________\n",
      "Layer (type)                    Output Shape         Param #     Connected to                     \n",
      "==================================================================================================\n",
      "input_3 (InputLayer)            (None, 256, 256, 3)  0                                            \n",
      "__________________________________________________________________________________________________\n",
      "input_4 (InputLayer)            (None, 48, 19)       0                                            \n",
      "__________________________________________________________________________________________________\n",
      "sequential_3 (Sequential)       (None, 48, 1024)     104098080   input_3[0][0]                    \n",
      "__________________________________________________________________________________________________\n",
      "sequential_4 (Sequential)       (None, 48, 128)      207360      input_4[0][0]                    \n",
      "__________________________________________________________________________________________________\n",
      "concatenate_2 (Concatenate)     (None, 48, 1152)     0           sequential_3[1][0]               \n",
      "                                                                 sequential_4[1][0]               \n",
      "__________________________________________________________________________________________________\n",
      "lstm_7 (LSTM)                   (None, 48, 512)      3409920     concatenate_2[0][0]              \n",
      "__________________________________________________________________________________________________\n",
      "lstm_8 (LSTM)                   (None, 512)          2099200     lstm_7[0][0]                     \n",
      "__________________________________________________________________________________________________\n",
      "dense_6 (Dense)                 (None, 19)           9747        lstm_8[0][0]                     \n",
      "==================================================================================================\n",
      "Total params: 109,824,307\n",
      "Trainable params: 109,824,307\n",
      "Non-trainable params: 0\n",
      "__________________________________________________________________________________________________\n"
     ]
    }
   ],
   "source": [
    "input_shape = (256, 256, 3)\n",
    "output_size = 19\n",
    "output_path = '../bin'\n",
    "image_model = Sequential()\n",
    "image_model.add(Conv2D(32, (3, 3), padding='valid', activation='relu', input_shape=input_shape))\n",
    "image_model.add(Conv2D(32, (3, 3), padding='valid', activation='relu'))\n",
    "image_model.add(MaxPooling2D(pool_size=(2, 2)))\n",
    "image_model.add(Dropout(0.25))\n",
    "\n",
    "image_model.add(Conv2D(64, (3, 3), padding='valid', activation='relu'))\n",
    "image_model.add(Conv2D(64, (3, 3), padding='valid', activation='relu'))\n",
    "image_model.add(MaxPooling2D(pool_size=(2, 2)))\n",
    "image_model.add(Dropout(0.25))\n",
    "\n",
    "image_model.add(Conv2D(128, (3, 3), padding='valid', activation='relu'))\n",
    "image_model.add(Conv2D(128, (3, 3), padding='valid', activation='relu'))\n",
    "image_model.add(MaxPooling2D(pool_size=(2, 2)))\n",
    "image_model.add(Dropout(0.25))\n",
    "\n",
    "image_model.add(Flatten())\n",
    "image_model.add(Dense(1024, activation='relu'))\n",
    "image_model.add(Dropout(0.3))\n",
    "image_model.add(Dense(1024, activation='relu'))\n",
    "image_model.add(Dropout(0.3))\n",
    "\n",
    "image_model.add(RepeatVector(CONTEXT_LENGTH))\n",
    "\n",
    "visual_input = Input(shape=input_shape)\n",
    "encoded_image = image_model(visual_input)\n",
    "\n",
    "language_model = Sequential()\n",
    "language_model.add(LSTM(128, return_sequences=True, input_shape=(CONTEXT_LENGTH, output_size)))\n",
    "language_model.add(LSTM(128, return_sequences=True))\n",
    "\n",
    "textual_input = Input(shape=(CONTEXT_LENGTH, output_size))\n",
    "encoded_text = language_model(textual_input)\n",
    "\n",
    "decoder = concatenate([encoded_image, encoded_text])\n",
    "\n",
    "decoder = LSTM(512, return_sequences=True)(decoder)\n",
    "decoder = LSTM(512, return_sequences=False)(decoder)\n",
    "decoder = Dense(output_size, activation='softmax')(decoder)\n",
    "\n",
    "model = Model(inputs=[visual_input, textual_input], outputs=decoder)\n",
    "\n",
    "optimizer = RMSprop(lr=0.0001, clipvalue=1.0)\n",
    "model.compile(loss='categorical_crossentropy', optimizer=optimizer)\n",
    "\n",
    "plot_model(model, to_file='./pix2code.png', show_shapes=True, show_layer_names=True)\n",
    "model.summary()"
   ]
  },
  {
   "cell_type": "code",
   "execution_count": 4,
   "metadata": {
    "pycharm": {
     "name": "#%%\n"
    }
   },
   "outputs": [],
   "source": [
    "\n"
   ]
  }
 ],
 "metadata": {
  "kernelspec": {
   "display_name": "pix-2-code",
   "language": "python",
   "name": "pix-2-code"
  },
  "language_info": {
   "codemirror_mode": {
    "name": "ipython",
    "version": 3
   },
   "file_extension": ".py",
   "mimetype": "text/x-python",
   "name": "python",
   "nbconvert_exporter": "python",
   "pygments_lexer": "ipython3",
   "version": "3.7.7"
  },
  "toc": {
   "base_numbering": 1,
   "nav_menu": {},
   "number_sections": true,
   "sideBar": true,
   "skip_h1_title": false,
   "title_cell": "Table of Contents",
   "title_sidebar": "Contents",
   "toc_cell": false,
   "toc_position": {},
   "toc_section_display": true,
   "toc_window_display": false
  }
 },
 "nbformat": 4,
 "nbformat_minor": 1
}