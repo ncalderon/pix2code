{
 "cells": [
  {
   "cell_type": "code",
   "execution_count": 1,
   "metadata": {
    "collapsed": true,
    "pycharm": {
     "name": "#%%\n"
    }
   },
   "outputs": [],
   "source": [
    "# import cv2\n",
    "#\n",
    "# img = cv2.imread(\"datasets/ios/training_set/0A967511-9D13-40D3-9A95-20125CDB25CD.png\")\n",
    "# img.shape\n",
    "#"
   ]
  },
  {
   "cell_type": "code",
   "execution_count": 2,
   "metadata": {
    "pycharm": {
     "name": "#%%\n"
    }
   },
   "outputs": [],
   "source": [
    "# img_resized = cv2.resize(img, (256, 256))\n",
    "# img_resized.shape\n",
    "# cv2.imshow(\"Original\", img)\n",
    "# cv2.imshow(\"Resized image\", img_resized)\n",
    "# cv2.waitKey(0)\n",
    "# cv2.destroyAllWindows()"
   ]
  },
  {
   "cell_type": "code",
   "execution_count": 3,
   "metadata": {
    "pycharm": {
     "name": "#%%\n"
    }
   },
   "outputs": [
    {
     "name": "stderr",
     "output_type": "stream",
     "text": [
      "Using TensorFlow backend.\n"
     ]
    }
   ],
   "source": [
    "from keras.utils.vis_utils import plot_model\n",
    "from keras.layers import Input, Dense, Dropout, \\\n",
    "                         RepeatVector, LSTM, concatenate, \\\n",
    "                         Conv2D, MaxPooling2D, Flatten\n",
    "from keras.models import Sequential, Model\n",
    "from keras.optimizers import RMSprop\n",
    "from keras import *\n",
    "from model.classes.model.Config import *\n",
    "from model.classes.model.AModel import *"
   ]
  },
  {
   "cell_type": "code",
   "execution_count": 5,
   "metadata": {
    "pycharm": {
     "name": "#%%\n"
    }
   },
   "outputs": [
    {
     "name": "stdout",
     "output_type": "stream",
     "text": [
      "Model: \"sequential_3\"\n",
      "_________________________________________________________________\n",
      "Layer (type)                 Output Shape              Param #   \n",
      "=================================================================\n",
      "conv2d_7 (Conv2D)            (None, 254, 254, 32)      896       \n",
      "_________________________________________________________________\n",
      "conv2d_8 (Conv2D)            (None, 252, 252, 32)      9248      \n",
      "_________________________________________________________________\n",
      "max_pooling2d_4 (MaxPooling2 (None, 126, 126, 32)      0         \n",
      "_________________________________________________________________\n",
      "dropout_6 (Dropout)          (None, 126, 126, 32)      0         \n",
      "_________________________________________________________________\n",
      "conv2d_9 (Conv2D)            (None, 124, 124, 64)      18496     \n",
      "_________________________________________________________________\n",
      "conv2d_10 (Conv2D)           (None, 122, 122, 64)      36928     \n",
      "_________________________________________________________________\n",
      "max_pooling2d_5 (MaxPooling2 (None, 61, 61, 64)        0         \n",
      "_________________________________________________________________\n",
      "dropout_7 (Dropout)          (None, 61, 61, 64)        0         \n",
      "_________________________________________________________________\n",
      "conv2d_11 (Conv2D)           (None, 59, 59, 128)       73856     \n",
      "_________________________________________________________________\n",
      "conv2d_12 (Conv2D)           (None, 57, 57, 128)       147584    \n",
      "_________________________________________________________________\n",
      "max_pooling2d_6 (MaxPooling2 (None, 28, 28, 128)       0         \n",
      "_________________________________________________________________\n",
      "dropout_8 (Dropout)          (None, 28, 28, 128)       0         \n",
      "_________________________________________________________________\n",
      "flatten_2 (Flatten)          (None, 100352)            0         \n",
      "_________________________________________________________________\n",
      "dense_4 (Dense)              (None, 1024)              102761472 \n",
      "_________________________________________________________________\n",
      "dropout_9 (Dropout)          (None, 1024)              0         \n",
      "_________________________________________________________________\n",
      "dense_5 (Dense)              (None, 1024)              1049600   \n",
      "_________________________________________________________________\n",
      "dropout_10 (Dropout)         (None, 1024)              0         \n",
      "_________________________________________________________________\n",
      "repeat_vector_2 (RepeatVecto (None, 48, 1024)          0         \n",
      "=================================================================\n",
      "Total params: 104,098,080\n",
      "Trainable params: 104,098,080\n",
      "Non-trainable params: 0\n",
      "_________________________________________________________________\n"
     ]
    }
   ],
   "source": [
    "input_shape = (256, 256, 3)\n",
    "output_size = 19\n",
    "output_path = '../bin'\n",
    "image_model = Sequential()\n",
    "image_model.add(Conv2D(32, (3, 3), padding='valid', activation='relu', input_shape=input_shape))\n",
    "image_model.add(Conv2D(32, (3, 3), padding='valid', activation='relu'))\n",
    "image_model.add(MaxPooling2D(pool_size=(2, 2)))\n",
    "image_model.add(Dropout(0.25))\n",
    "\n",
    "image_model.add(Conv2D(64, (3, 3), padding='valid', activation='relu'))\n",
    "image_model.add(Conv2D(64, (3, 3), padding='valid', activation='relu'))\n",
    "image_model.add(MaxPooling2D(pool_size=(2, 2)))\n",
    "image_model.add(Dropout(0.25))\n",
    "\n",
    "image_model.add(Conv2D(128, (3, 3), padding='valid', activation='relu'))\n",
    "image_model.add(Conv2D(128, (3, 3), padding='valid', activation='relu'))\n",
    "image_model.add(MaxPooling2D(pool_size=(2, 2)))\n",
    "image_model.add(Dropout(0.25))\n",
    "\n",
    "image_model.add(Flatten())\n",
    "image_model.add(Dense(1024, activation='relu'))\n",
    "image_model.add(Dropout(0.3))\n",
    "image_model.add(Dense(1024, activation='relu'))\n",
    "image_model.add(Dropout(0.3))\n",
    "\n",
    "image_model.add(RepeatVector(CONTEXT_LENGTH))\n",
    "\n",
    "visual_input = Input(shape=input_shape)\n",
    "encoded_image = image_model(visual_input)\n",
    "\n",
    "language_model = Sequential()\n",
    "language_model.add(LSTM(128, return_sequences=True, input_shape=(CONTEXT_LENGTH, output_size)))\n",
    "language_model.add(LSTM(128, return_sequences=True))\n",
    "\n",
    "textual_input = Input(shape=(CONTEXT_LENGTH, output_size))\n",
    "encoded_text = language_model(textual_input)\n",
    "\n",
    "decoder = concatenate([encoded_image, encoded_text])\n",
    "\n",
    "decoder = LSTM(512, return_sequences=True)(decoder)\n",
    "decoder = LSTM(512, return_sequences=False)(decoder)\n",
    "decoder = Dense(output_size, activation='softmax')(decoder)\n",
    "\n",
    "model = Model(inputs=[visual_input, textual_input], outputs=decoder)\n",
    "\n",
    "optimizer = RMSprop(lr=0.0001, clipvalue=1.0)\n",
    "model.compile(loss='categorical_crossentropy', optimizer=optimizer)\n",
    "\n",
    "plot_model(image_model, to_file='./pix2code.png', show_shapes=True, show_layer_names=True)\n",
    "image_model.summary()"
   ]
  },
  {
   "cell_type": "code",
   "execution_count": 4,
   "metadata": {
    "pycharm": {
     "name": "#%%\n"
    }
   },
   "outputs": [],
   "source": [
    "\n"
   ]
  }
 ],
 "metadata": {
  "kernelspec": {
   "display_name": "pix-2-code",
   "language": "python",
   "name": "pix-2-code"
  },
  "language_info": {
   "codemirror_mode": {
    "name": "ipython",
    "version": 3
   },
   "file_extension": ".py",
   "mimetype": "text/x-python",
   "name": "python",
   "nbconvert_exporter": "python",
   "pygments_lexer": "ipython3",
   "version": "3.7.7"
  },
  "toc": {
   "base_numbering": 1,
   "nav_menu": {},
   "number_sections": true,
   "sideBar": true,
   "skip_h1_title": false,
   "title_cell": "Table of Contents",
   "title_sidebar": "Contents",
   "toc_cell": false,
   "toc_position": {},
   "toc_section_display": true,
   "toc_window_display": false
  }
 },
 "nbformat": 4,
 "nbformat_minor": 1
}